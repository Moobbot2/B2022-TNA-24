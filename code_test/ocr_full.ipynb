{
 "cells": [
  {
   "cell_type": "code",
   "execution_count": 14,
   "metadata": {},
   "outputs": [
    {
     "name": "stdout",
     "output_type": "stream",
     "text": [
      "Requirement already satisfied: PyPDF2 in d:\\airc\\airc_baibao\\doan\\.conda\\lib\\site-packages (3.0.1)\n"
     ]
    }
   ],
   "source": [
    "! pip install PyPDF2"
   ]
  },
  {
   "cell_type": "code",
   "execution_count": 15,
   "metadata": {},
   "outputs": [],
   "source": [
    "import os\n",
    "folder_log = \"../output/log_pdf/\"\n",
    "os.makedirs(folder_log, mode=755, exist_ok=True)\n"
   ]
  },
  {
   "cell_type": "code",
   "execution_count": 16,
   "metadata": {},
   "outputs": [],
   "source": [
    "import time\n",
    "import PyPDF2\n",
    "pdf_file_path = r\"D:\\AIRC\\AIRC_BaiBao\\DoAn\\dataset\\dieu tri.pdf\"\n",
    "sum = 0\n",
    "page_texts = \"\"\n",
    "output_file_path = os.path.join(folder_log, f\"{time.time()}.log\")\n",
    "with open(pdf_file_path, \"rb\") as pdf_file:\n",
    "    pdf_reader = PyPDF2.PdfReader(pdf_file)\n",
    "    num_pages = len(pdf_reader.pages)\n",
    "    with open(output_file_path, \"w\", encoding=\"utf-8\") as output_file:\n",
    "        # for page_num in range(num_pages):\n",
    "            page_num=0\n",
    "            page = pdf_reader.pages[page_num]\n",
    "            page_text = page.extract_text()\n",
    "            output_file.write(page_text)\n",
    "            page_texts += page_text"
   ]
  },
  {
   "cell_type": "code",
   "execution_count": 17,
   "metadata": {},
   "outputs": [
    {
     "data": {
      "text/plain": [
       "'Y LỆNH DIỄN BIẾN BỆNH NGÀY  \\nU Bướu Nam  \\nU ác đại tràng - Chẩn đoán: Buồng: Giường: Giới tính: Tuổi: - Họ tên người bệnh: Số vào viện: \\n- Khoa:  TỜ ĐIỀU TRỊ   \\nC18 \\n- Bệnh kèm theo:  .  MS: 39/BV -01 \\n 1 Số: \\n \\n* THUỐC: \\n- Boliveric 200mg;150mg;16mg x 04 Vi ên \\n [UỐng 11h30 -15h] \\n * CẬN LÂM SÀNG - PHẪU THUẬT - THỦ THUẬT: \\n- A-Tổng ph ân tích tế bào máu ngoại vi [bằng m áy đếm laser] \\nx 1 Lần   \\n- A-Định lượng Creatinin [m áu] x 1 Lần   \\n- A-Định lượng Protein to àn phần [máu] x 1 Lần   \\n- A-Định lượng Ur ê máu [máu] x 1 Lần   \\n- A-Định lượng Bilirubin tr ực tiếp [M áu] x 1 Lần   \\n- A-Định lượng Calci to àn phần [máu] x 1 Lần   \\n- A-Đo hoạt độ ALT (GPT) [m áu] x 1 Lần   \\n- A-Đo hoạt độ GGT (Gama Glutamyl Transferase) [M áu] x \\n1 Lần   \\n- A-Điện giải đồ (Na, K, Cl) [m áu] x 1 Lần   \\n- A-Định lượng Bilirubin to àn phần [máu] x 1 Lần   \\n- A-Đo hoạt độ AST (GOT) [M áu] x 1 Lần   \\n- A-Định lượng Albumin [M áu] x 1 Lần   \\n- A-Định lượng Glucose [M áu] x 1 Lần   \\n- A-Định lượng CEA [Carcino Embryonic Antigen] [M áu] x \\n1 Lần   \\n- A-Điện tim thường x 1 Lần \\n * DINH D ƯỠNG V À CHĂM SÓC: \\nBT01 - Cơm_Năng lượng: 1600 -1700kcal  \\nChăm sóc cấp độ III  \\nTháng 9/23, b ệnh nh ân xuất hiện đau âm ỉ \\nvùng trên rốn và hạ sườn P, ăn ngủ được, đại \\ntiểu tiện bình thường, gầy sút 4kg/th áng, đi \\nkhám ph át hiện u đại tràng, v ào TTUB được \\nchẩn đoán K đại tràng ngang pT4aN1M1a \\n(gan) giai đoạn IVa đã phẫu thuật cắt đoạn \\nđại tràng nối ngay (T11/2023). H ậu phẫu tạm \\nổn định, s út 5kg. Nay v ào viện điều trị tiếp \\ntheo hẹn xét hoá chất. \\nLúc vào: \\nBệnh nh ân tỉnh, tiếp xúc được \\nDa, ni êm mạc hồng nhạt \\nThể trạng trung b ình, PS 1  \\nKhông ph ù, không xuất huyết dưới da \\nHạch ngoại vi kh ông to  \\nTuyến giáp không sờ thấy \\nĂn được ít. Ngủ được \\nĐại, tiểu tiện bình thường \\nVết mổ còn ít dịch thấm băng \\nBụng mềm kh ông chướng. Gan l ách kh ông to  \\nTim nhịp nhanh đều, tần số 101 ck/p  \\nPhổi thông kh í được, kh ông có ran \\nMBH: Ung th ư biểu mô tuyến biệt hóa vừa, \\nxâm nhập xơ mỡ thanh mạc. \\nTiền sử: tim nhịp nhanh đang điều trị Betaloc \\n2 tháng nay  \\nTHA 4 năm nay, d ùng thuốc theo sổ ngoại \\ntrú \\nCHẨN ĐOÁN: K đại tràng ngang \\npT4aN1M1a giai đoạn IVa / THA  15/01/2024 \\n11:30  \\n1/4 '"
      ]
     },
     "execution_count": 17,
     "metadata": {},
     "output_type": "execute_result"
    }
   ],
   "source": [
    "page_texts"
   ]
  },
  {
   "cell_type": "code",
   "execution_count": 23,
   "metadata": {},
   "outputs": [],
   "source": [
    "# ! pip install unidecode pandas pyvi\n"
   ]
  },
  {
   "cell_type": "code",
   "execution_count": 19,
   "metadata": {},
   "outputs": [],
   "source": [
    "from unidecode import unidecode\n",
    "from src.ultis import get_tc"
   ]
  },
  {
   "cell_type": "code",
   "execution_count": 20,
   "metadata": {},
   "outputs": [],
   "source": [
    "new_texts = unidecode(page_texts)\n"
   ]
  },
  {
   "cell_type": "code",
   "execution_count": 26,
   "metadata": {},
   "outputs": [],
   "source": [
    "new_texts = new_texts.lower()"
   ]
  },
  {
   "cell_type": "code",
   "execution_count": 29,
   "metadata": {},
   "outputs": [],
   "source": [
    "# Kiểm tra định dạng text\n",
    "# python text encode default\n",
    "with open(\"test.txt\", \"w\", encoding=\"utf-8\") as output_test:\n",
    "        output_test.write(new_texts)\n",
    "    "
   ]
  },
  {
   "cell_type": "code",
   "execution_count": 27,
   "metadata": {},
   "outputs": [],
   "source": [
    "TMP = get_tc(new_texts)"
   ]
  },
  {
   "cell_type": "code",
   "execution_count": 28,
   "metadata": {},
   "outputs": [
    {
     "data": {
      "text/plain": [
       "[]"
      ]
     },
     "execution_count": 28,
     "metadata": {},
     "output_type": "execute_result"
    }
   ],
   "source": [
    "TMP"
   ]
  },
  {
   "cell_type": "code",
   "execution_count": 30,
   "metadata": {},
   "outputs": [],
   "source": [
    "status = \"Tháng 9/23, b ệnh nh ân xuất hiện đau âm ỉ vùng trên rốn và hạ sườn P, ăn ngủ được, đại tiểu tiện bình thường, gầy sút 4kg/th áng, đi khám ph át hiện u đại tràng, v ào TTUB được chẩn đoán K đại tràng ngang pT4aN1M1a (gan) giai đoạn IVa đã phẫu thuật cắt đoạn đại tràng nối ngay (T11/2023). H ậu phẫu tạm ổn định, s út 5kg. Nay v ào viện điều trị tiếp theo hẹn xét hoá chất. Lúc vào: Bệnh nh ân tỉnh, tiếp xúc được Da, ni êm mạc hồng nhạt Thể trạng trung b ình, PS 1  Không ph ù, không xuất huyết dưới da Hạch ngoại vi kh ông to  Tuyến giáp không sờ thấy Ăn được ít. Ngủ được Đại, tiểu tiện bình thường Vết mổ còn ít dịch thấm băng Bụng mềm kh ông chướng. Gan l ách kh ông to  Tim nhịp nhanh đều, tần số 101 ck/p  Phổi thông kh í được, kh ông có ran MBH: Ung th ư biểu mô tuyến biệt hóa vừa, xâm nhập xơ mỡ thanh mạc. Tiền sử: tim nhịp nhanh đang điều trị Betaloc 2 tháng nay  THA 4 năm nay, d ùng thuốc theo sổ ngoại trú CHẨN ĐOÁN: K đại tràng ngang pT4aN1M1a giai đoạn IVa / THA\""
   ]
  },
  {
   "cell_type": "code",
   "execution_count": 35,
   "metadata": {},
   "outputs": [],
   "source": [
    "status = \"Bệnh nhân nam 60 tuổi. Tiền sử K đại tràng di căn gan ( Đã phẫu thuật hiện đang điều trị hóa chất) Lý do vào viện: Đau cổ và vai trái Bệnh sử: Theo lời bệnh nhân kể, khoảng 1 tháng nay bệnh nhân đau vùng cột sống cổ, đau tê lan xuống vai trái và cánh tay trái, đau nhiều về đêm. Sút 6 kg trong 2 tháng nay. Ở nhà tự dùng thuốc giảm đau nhưng không đỡ. Nay đau tăng vào viện khám và điều trị. Tình trạng lúc vào: Bệnh nhân tỉnh, tiếp xúc tốt Thể trạng trung bình Da niêm mạc hồng Không phù, không xuất huyết dưới da Hạch ngoại vi, tuyến giáp không to Đau vùng cột sống cố, đau tê lan xuống vai trái, cánh tay trái Đau tăng về đêm; hạn chế cử động cột sống cổ và khớp vai trái VAS 7/10 Ấn dọc cột sống cố và cột sống ngực T1-4 đau Tim nhịp đều T1T2 rõ, ts 83 ck/phút Phổi thông khí được, không ran  , không chướng - Siêu âm 1/8/22: HÌNH ẢNH M GAN. - Xquang 1/8/22: Hình ảnh thoái hóa đốt sống cổ C4, C5, C6.Hiện tại hình ảnh X-Quang tim phổi bình thường. - CT ổ bụng22/6/22: Hiện tại không thấy hình ảnh dày thành hay khối bất thường khung đại tràng. Hình ảnh nghĩ đến di chứng tổn thương cũ ở gan. Nang gan trái. Hình ảnh nốt nhỏ vùng đáy phổi hai bên: TD M phổi hai bên Chẩn đoán: Hội chứng cổ vai gáy/ K đại tràng di căn gan, TD di căn phổi, đi căn xương.\"\n"
   ]
  },
  {
   "cell_type": "code",
   "execution_count": 36,
   "metadata": {},
   "outputs": [],
   "source": [
    "status_2 = unidecode(status)\n"
   ]
  },
  {
   "cell_type": "code",
   "execution_count": 37,
   "metadata": {},
   "outputs": [
    {
     "data": {
      "text/plain": [
       "'Benh nhan nam 60 tuoi. Tien su K dai trang di can gan ( Da phau thuat hien dang dieu tri hoa chat) Ly do vao vien: Dau co va vai trai Benh su: Theo loi benh nhan ke, khoang 1 thang nay benh nhan dau vung cot song co, dau te lan xuong vai trai va canh tay trai, dau nhieu ve dem. Sut 6 kg trong 2 thang nay. O nha tu dung thuoc giam dau nhung khong do. Nay dau tang vao vien kham va dieu tri. Tinh trang luc vao: Benh nhan tinh, tiep xuc tot The trang trung binh Da niem mac hong Khong phu, khong xuat huyet duoi da Hach ngoai vi, tuyen giap khong to Dau vung cot song co, dau te lan xuong vai trai, canh tay trai Dau tang ve dem; han che cu dong cot song co va khop vai trai VAS 7/10 An doc cot song co va cot song nguc T1-4 dau Tim nhip deu T1T2 ro, ts 83 ck/phut Phoi thong khi duoc, khong ran  , khong chuong - Sieu am 1/8/22: HINH ANH M GAN. - Xquang 1/8/22: Hinh anh thoai hoa dot song co C4, C5, C6.Hien tai hinh anh X-Quang tim phoi binh thuong. - CT o bung22/6/22: Hien tai khong thay hinh anh day thanh hay khoi bat thuong khung dai trang. Hinh anh nghi den di chung ton thuong cu o gan. Nang gan trai. Hinh anh not nho vung day phoi hai ben: TD M phoi hai ben Chan doan: Hoi chung co vai gay/ K dai trang di can gan, TD di can phoi, di can xuong.'"
      ]
     },
     "execution_count": 37,
     "metadata": {},
     "output_type": "execute_result"
    }
   ],
   "source": [
    "status_2"
   ]
  },
  {
   "cell_type": "code",
   "execution_count": 38,
   "metadata": {},
   "outputs": [
    {
     "data": {
      "text/plain": [
       "[]"
      ]
     },
     "execution_count": 38,
     "metadata": {},
     "output_type": "execute_result"
    }
   ],
   "source": [
    "get_tc(status_2)"
   ]
  }
 ],
 "metadata": {
  "kernelspec": {
   "display_name": "Python 3",
   "language": "python",
   "name": "python3"
  },
  "language_info": {
   "codemirror_mode": {
    "name": "ipython",
    "version": 3
   },
   "file_extension": ".py",
   "mimetype": "text/x-python",
   "name": "python",
   "nbconvert_exporter": "python",
   "pygments_lexer": "ipython3",
   "version": "3.11.8"
  }
 },
 "nbformat": 4,
 "nbformat_minor": 2
}
